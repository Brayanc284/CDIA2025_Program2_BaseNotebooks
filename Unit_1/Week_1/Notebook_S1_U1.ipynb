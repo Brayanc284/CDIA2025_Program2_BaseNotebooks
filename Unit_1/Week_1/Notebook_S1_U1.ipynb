{
 "cells": [
  {
   "cell_type": "markdown",
   "metadata": {},
   "source": [
    "# -----------------------------------------------\n",
    "# 📘 Tema: Introducción a la POO, Clases y Objetos\n",
    "# Semana 1 - Unidad 1 - Programación II\n",
    "# -----------------------------------------------\n",
    "\n",
    "# 👋 Bienvenida y objetivos\n",
    "\n",
    "En este notebook aprenderás:\n",
    "1. Qué es la programación orientada a objetos.\n",
    "2. Cómo definir una clase en Python.\n",
    "3. Cómo crear objetos a partir de clases.\n",
    "4. Qué son los atributos y métodos.\n"
   ]
  },
  {
   "cell_type": "markdown",
   "metadata": {},
   "source": [
    "🧱 1. Conceptos básicos de POO (por completar)\n",
    "\n",
    "💬 Completa la definición de los siguientes conceptos:"
   ]
  },
  {
   "cell_type": "code",
   "execution_count": 3,
   "metadata": {},
   "outputs": [
    {
     "name": "stdout",
     "output_type": "stream",
     "text": [
      "Clase: Es una plantilla que permite crear objetos.\n",
      "Objeto: Es una instancia creada a partir de una clase.\n",
      "Atributo: Es una caracteristica que representa una propiedad del objeto.\n",
      "Método: Es una funcion que define el comportamiento del objeto.\n"
     ]
    }
   ],
   "source": [
    "conceptos = {\n",
    "    \"Clase\": \"Es una plantilla que permite crear objetos.\",\n",
    "    \"Objeto\": \"Es una instancia creada a partir de una clase.\",\n",
    "    \"Atributo\": \"Es una caracteristica que representa una propiedad del objeto.\",\n",
    "    \"Método\": \"Es una funcion que define el comportamiento del objeto.\",\n",
    "}\n",
    "for k, v in conceptos.items():\n",
    "    print(f\"{k}: {v}\")\n"
   ]
  },
  {
   "cell_type": "markdown",
   "metadata": {},
   "source": [
    "🧪 2. Primera clase en Python (ejemplo guiado)"
   ]
  },
  {
   "cell_type": "code",
   "execution_count": 4,
   "metadata": {},
   "outputs": [],
   "source": [
    "class Persona:\n",
    "    def __init__(self, nombre, edad):\n",
    "        self.nombre = nombre\n",
    "        self.edad = edad\n",
    "\n",
    "    def saludar(self):\n",
    "        print(f\"Hola, me llamo {self.nombre} y tengo {self.edad} años.\")"
   ]
  },
  {
   "cell_type": "code",
   "execution_count": 5,
   "metadata": {},
   "outputs": [
    {
     "name": "stdout",
     "output_type": "stream",
     "text": [
      "Hola, me llamo Ana, tengo 25 años y soy Femenino.\n"
     ]
    }
   ],
   "source": [
    "class Persona:\n",
    "    def __init__(self, nombre, edad, genero):\n",
    "        self.nombre = nombre\n",
    "        self.edad = edad\n",
    "        self.genero = genero\n",
    "\n",
    "    def saludar(self):\n",
    "        print(f\"Hola, me llamo {self.nombre}, tengo {self.edad} años y soy {self.genero}.\")\n",
    "\n",
    "# Crear una persona llamada \"Ana\", de 25 años y género \"Femenino\"\n",
    "ana = Persona(\"Ana\", 25, \"Femenino\")\n",
    "\n",
    "# Llamar al método saludar para que Ana se presente\n",
    "ana.saludar()"
   ]
  },
  {
   "cell_type": "markdown",
   "metadata": {},
   "source": [
    "### 🧱 Actividad 1:\n",
    "\n",
    "Modifica esta clase para que también almacene el género de la persona.\n",
    "\n",
    "Luego crea una persona llamada \"Ana\", de 25 años y género \"Femenino\""
   ]
  }
 ],
 "metadata": {
  "kernelspec": {
   "display_name": "base",
   "language": "python",
   "name": "python3"
  },
  "language_info": {
   "codemirror_mode": {
    "name": "ipython",
    "version": 3
   },
   "file_extension": ".py",
   "mimetype": "text/x-python",
   "name": "python",
   "nbconvert_exporter": "python",
   "pygments_lexer": "ipython3",
   "version": "3.12.9"
  }
 },
 "nbformat": 4,
 "nbformat_minor": 2
}
